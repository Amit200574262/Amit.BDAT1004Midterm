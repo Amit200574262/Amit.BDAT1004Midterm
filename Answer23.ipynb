{
 "cells": [
  {
   "cell_type": "markdown",
   "id": "08be9843",
   "metadata": {},
   "source": [
    "# Answer23"
   ]
  },
  {
   "cell_type": "code",
   "execution_count": 1,
   "id": "91a7c463",
   "metadata": {},
   "outputs": [
    {
     "name": "stdout",
     "output_type": "stream",
     "text": [
      "--------\n",
      "*\n",
      "---------\n",
      "*\n",
      "**\n",
      " *\n",
      "---------\n",
      "*\n",
      "**\n",
      " *\n",
      "****\n",
      " *\n",
      " **\n",
      "  *\n"
     ]
    }
   ],
   "source": [
    "def tough(indent, num):\n",
    "    if(num > 0):\n",
    "        tough(indent, num//2)         \n",
    "        print(\" \"*indent + \"*\"*num);    \n",
    "        tough(indent + 1, num//2)\n",
    "        \n",
    "tough(0, 0)\n",
    "print(\"--------\")\n",
    "tough(0, 1)\n",
    "print(\"---------\")\n",
    "tough(0, 2)\n",
    "print(\"---------\")\n",
    "tough(0,4)"
   ]
  },
  {
   "cell_type": "code",
   "execution_count": null,
   "id": "3e5c80a2",
   "metadata": {},
   "outputs": [],
   "source": []
  }
 ],
 "metadata": {
  "kernelspec": {
   "display_name": "Python 3 (ipykernel)",
   "language": "python",
   "name": "python3"
  },
  "language_info": {
   "codemirror_mode": {
    "name": "ipython",
    "version": 3
   },
   "file_extension": ".py",
   "mimetype": "text/x-python",
   "name": "python",
   "nbconvert_exporter": "python",
   "pygments_lexer": "ipython3",
   "version": "3.11.4"
  }
 },
 "nbformat": 4,
 "nbformat_minor": 5
}
