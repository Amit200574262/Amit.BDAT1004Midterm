{
 "cells": [
  {
   "cell_type": "markdown",
   "id": "1747c79c",
   "metadata": {},
   "source": [
    "# Answer 21"
   ]
  },
  {
   "cell_type": "code",
   "execution_count": 1,
   "id": "1a4a191f",
   "metadata": {},
   "outputs": [],
   "source": [
    "class Point:\n",
    "    def __init__(pen, x=0, y=0):\n",
    "        pen.x = x\n",
    "        pen.y = y\n",
    "\n",
    "class Segment:\n",
    "    def __init__(pen, first, last):\n",
    "        pen.first = first\n",
    "        pen.last = last\n",
    "\n",
    "    def length(pen):\n",
    "        dx = pen.first.x - pen.last.x\n",
    "        dy = pen.first.y - pen.last.y\n",
    "        return (dx ** 2 + dy ** 2) ** 0.5\n",
    "\n",
    "    def slope(pen):\n",
    "        if pen.first.x == pen.last.x:\n",
    "            return None  \n",
    "        return float(pen.last.x - pen.first.x) / (pen.last.y - pen.first.y)"
   ]
  },
  {
   "cell_type": "code",
   "execution_count": 2,
   "id": "3481117d",
   "metadata": {},
   "outputs": [
    {
     "name": "stdout",
     "output_type": "stream",
     "text": [
      "5.0\n",
      "0.75\n"
     ]
    }
   ],
   "source": [
    "p1 = Point(3, 4)\n",
    "p2 = Point()\n",
    "s = Segment(p1, p2)\n",
    "\n",
    "print(s.length()) \n",
    "print(s.slope())"
   ]
  },
  {
   "cell_type": "code",
   "execution_count": null,
   "id": "f8e3a38a",
   "metadata": {},
   "outputs": [],
   "source": []
  }
 ],
 "metadata": {
  "kernelspec": {
   "display_name": "Python 3 (ipykernel)",
   "language": "python",
   "name": "python3"
  },
  "language_info": {
   "codemirror_mode": {
    "name": "ipython",
    "version": 3
   },
   "file_extension": ".py",
   "mimetype": "text/x-python",
   "name": "python",
   "nbconvert_exporter": "python",
   "pygments_lexer": "ipython3",
   "version": "3.11.4"
  }
 },
 "nbformat": 4,
 "nbformat_minor": 5
}
