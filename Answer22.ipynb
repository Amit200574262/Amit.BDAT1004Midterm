{
 "cells": [
  {
   "cell_type": "markdown",
   "id": "c3c97a87",
   "metadata": {},
   "source": [
    "# Answer22"
   ]
  },
  {
   "cell_type": "code",
   "execution_count": 1,
   "id": "0b06f4b2",
   "metadata": {},
   "outputs": [],
   "source": [
    "import sqlite3\n",
    "conn = sqlite3.connect('MidtermDB.db')\n",
    "cursor = conn.cursor()\n",
    "\n",
    "cursor.execute('''\n",
    "CREATE TABLE IF NOT EXISTS Amitmidterm (\n",
    "    id INTEGER PRIMARY KEY,\n",
    "    recordDate DATE,\n",
    "    temperature INTEGER\n",
    ")\n",
    "''')\n",
    "\n",
    "cursor.execute(\"INSERT INTO Amitmidterm (id, recordDate, temperature) VALUES (1, '2015-01-01', 10)\")\n",
    "cursor.execute(\"INSERT INTO Amitmidterm (id, recordDate, temperature) VALUES (2, '2015-01-02', 25)\")\n",
    "cursor.execute(\"INSERT INTO Amitmidterm (id, recordDate, temperature) VALUES (3, '2015-01-03', 20)\")\n",
    "cursor.execute(\"INSERT INTO Amitmidterm (id, recordDate, temperature) VALUES (4, '2015-01-04', 30)\")\n",
    "\n",
    "\n",
    "conn.commit()"
   ]
  },
  {
   "cell_type": "code",
   "execution_count": 2,
   "id": "0cf4eb7f",
   "metadata": {},
   "outputs": [
    {
     "name": "stdout",
     "output_type": "stream",
     "text": [
      "+----+\n",
      "| id |\n",
      "+----+\n",
      "| 2  |\n",
      "| 4  |\n",
      "+----+\n"
     ]
    }
   ],
   "source": [
    "import sqlite3\n",
    "from prettytable import PrettyTable\n",
    "\n",
    "cursor.execute('''\n",
    "SELECT w1.id\n",
    "FROM Amitmidterm w1\n",
    "JOIN Amitmidterm w2\n",
    "ON w1.id = w2.id + 1\n",
    "WHERE w1.temperature > w2.temperature;\n",
    "''')\n",
    "\n",
    "\n",
    "results = cursor.fetchall()\n",
    "\n",
    "table = PrettyTable()\n",
    "table.field_names = [\"id\"]\n",
    "for row in results:\n",
    "    table.add_row(row)\n",
    "    \n",
    "print(table)"
   ]
  },
  {
   "cell_type": "code",
   "execution_count": null,
   "id": "35abff68",
   "metadata": {},
   "outputs": [],
   "source": []
  }
 ],
 "metadata": {
  "kernelspec": {
   "display_name": "Python 3 (ipykernel)",
   "language": "python",
   "name": "python3"
  },
  "language_info": {
   "codemirror_mode": {
    "name": "ipython",
    "version": 3
   },
   "file_extension": ".py",
   "mimetype": "text/x-python",
   "name": "python",
   "nbconvert_exporter": "python",
   "pygments_lexer": "ipython3",
   "version": "3.11.4"
  }
 },
 "nbformat": 4,
 "nbformat_minor": 5
}
